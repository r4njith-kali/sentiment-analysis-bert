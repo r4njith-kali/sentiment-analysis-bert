{
 "cells": [
  {
   "cell_type": "code",
   "execution_count": 1,
   "id": "e7c29804-a3b5-46ae-9ebd-e20f03a3b70a",
   "metadata": {},
   "outputs": [],
   "source": [
    "from datasets import load_dataset"
   ]
  },
  {
   "cell_type": "code",
   "execution_count": 2,
   "id": "a650fd76-a954-44af-91b3-87dc381fef2d",
   "metadata": {},
   "outputs": [],
   "source": [
    "imdb_dataset = load_dataset(\"imdb\")"
   ]
  },
  {
   "cell_type": "code",
   "execution_count": 3,
   "id": "d917b9ed-0667-45b5-be27-ad16d0098a5e",
   "metadata": {},
   "outputs": [
    {
     "name": "stdout",
     "output_type": "stream",
     "text": [
      "DatasetDict({\n",
      "    train: Dataset({\n",
      "        features: ['text', 'label'],\n",
      "        num_rows: 25000\n",
      "    })\n",
      "    test: Dataset({\n",
      "        features: ['text', 'label'],\n",
      "        num_rows: 25000\n",
      "    })\n",
      "    unsupervised: Dataset({\n",
      "        features: ['text', 'label'],\n",
      "        num_rows: 50000\n",
      "    })\n",
      "})\n"
     ]
    }
   ],
   "source": [
    "print(imdb_dataset)"
   ]
  },
  {
   "cell_type": "code",
   "execution_count": 4,
   "id": "2c09e184-ad8d-411e-828c-b181eaaa9a8e",
   "metadata": {},
   "outputs": [
    {
     "name": "stdout",
     "output_type": "stream",
     "text": [
      "{'text': 'I rented I AM CURIOUS-YELLOW from my video store because of all the controversy that surrounded it when it was first released in 1967. I also heard that at first it was seized by U.S. customs if it ever tried to enter this country, therefore being a fan of films considered \"controversial\" I really had to see this for myself.<br /><br />The plot is centered around a young Swedish drama student named Lena who wants to learn everything she can about life. In particular she wants to focus her attentions to making some sort of documentary on what the average Swede thought about certain political issues such as the Vietnam War and race issues in the United States. In between asking politicians and ordinary denizens of Stockholm about their opinions on politics, she has sex with her drama teacher, classmates, and married men.<br /><br />What kills me about I AM CURIOUS-YELLOW is that 40 years ago, this was considered pornographic. Really, the sex and nudity scenes are few and far between, even then it\\'s not shot like some cheaply made porno. While my countrymen mind find it shocking, in reality sex and nudity are a major staple in Swedish cinema. Even Ingmar Bergman, arguably their answer to good old boy John Ford, had sex scenes in his films.<br /><br />I do commend the filmmakers for the fact that any sex shown in the film is shown for artistic purposes rather than just to shock people and make money to be shown in pornographic theaters in America. I AM CURIOUS-YELLOW is a good film for anyone wanting to study the meat and potatoes (no pun intended) of Swedish cinema. But really, this film doesn\\'t have much of a plot.', 'label': 0}\n"
     ]
    }
   ],
   "source": [
    "print(imdb_dataset[\"train\"][0])"
   ]
  },
  {
   "cell_type": "code",
   "execution_count": 5,
   "id": "49631c35-352d-4763-afba-1a62c32a656d",
   "metadata": {},
   "outputs": [
    {
     "name": "stdout",
     "output_type": "stream",
     "text": [
      "{'text': '\"Cover Girl\" is a lacklustre WWII musical with absolutely nothing memorable about it, save for its signature song, \"Long Ago and Far Away.\" This film came out before Gene Kelly really hit his artistic stride, and while there are evidences of his burgeoning talent here, mostly he plays sidekick to Rita Hayworth. And there\\'s the problem. Rita Hayworth is gorgeous, no doubt about that. But she\\'s simply not a compelling screen presence. I\\'ve always found myself wanting to like her more than I actually do, and this movie is no exception. She\\'s simply not a very good actress, and she\\'s not even a very good dancer. Good looking as she is, there\\'s something vapid about her, and this movie suffers because of it.<br /><br />Grade: C-', 'label': 0}\n"
     ]
    }
   ],
   "source": [
    "print(imdb_dataset[\"test\"][100]) # Just picking a random index"
   ]
  },
  {
   "cell_type": "code",
   "execution_count": 6,
   "id": "01628b08-af62-4791-9df2-719157adce38",
   "metadata": {},
   "outputs": [
    {
     "name": "stdout",
     "output_type": "stream",
     "text": [
      "{'text': \"***LIGHT SPOILER ALERT*** The story sounds good and if you've read the novel, then you're probably expecting a deep and intense movie that could offer some insight for some interesting and insufficiently explored human relationships.<br /><br />True enough, the script tries to do that, the director tries to do that, but the main cast fails miserably. Maria's acting is so dry that lacks any feeling whatsoever, her most intense moments seem almost comical. Sometimes she seems to be nervous due to the camera. Her only really feeling scene is near the end where she gets dumped by her girlfriend.<br /><br />Ioana seems even more tense than Maria and even worse, she doesn't seem natural at all. Maria had the attitude, even if it was artificially pushed towards being obvious, but she had it and her character received some credibility. And to make matters worse, we don't have an insight on her: where does she come from, how come she got involved in the lesbian relationship, how did the relationship evolve? We only get some bits from her parents and their relationship just seems to 'be' there: it has a content and and end, but no beginning. Just like her partner Maria, she has only once scene that is truly touching, the scene where she dumps Maria's character Kiki.<br /><br />Tudor is the only person in this movie (aside from the landlady, great acting there) who manages to prove some acting talent. He has his character's attitude and it fits him. Only once or twice he seems to falter (the scene at his parents' meal, he tries to be obvious when it wasn't necessary at all).<br /><br />I love the story, Tudor Chirila is OK there, the landlady actually acts and Puya delivers his couple of lines with style, but this doesn't save the movie. Too bad, the entire setting had huge potential and the Romanian cinematography could've used a movie on this theme.<br /><br />Oddly enough, the incestuous relationship between brother and sister seems to have more credibility than the no-background no-feeling (well, Maria's spoken interludes are a nice try in this direction) lesbian relationship of Maria and Ioana. I'm quite sorry for spending money on a ticket, I'd rather had watched it from the comfort of my room.\", 'label': 0}\n"
     ]
    }
   ],
   "source": [
    "print(imdb_dataset[\"train\"][165])"
   ]
  },
  {
   "cell_type": "code",
   "execution_count": 8,
   "id": "66dcb253-ea8e-4d4a-9009-a9ed873b8c3a",
   "metadata": {},
   "outputs": [
    {
     "name": "stdout",
     "output_type": "stream",
     "text": [
      "{'text': 'Whoever made this movie must have done it as a joke. I mean, this was the stupidest movie I think I have ever seen!! A killer snowman terrorizes a small town? Give me a break. Love it when he takes off driving the cop car. More like a comedy than a horror movie. If you want a laugh, rent this. If you truly want a horror movie, stay the hell away from this one!!', 'label': 0}\n",
      "{'text': 'A \"friend\", clearly with no taste or class, suggested I take a look at the work of Ron Atkins. If this is representative of his oeuvre, I never want to see anything else by him. It is amateurish, self-indulgent, criminally shoddy and self-indulgent rubbish. The \"whore mangler\" of the title is an angry low budget filmmaker who murders a bunch of hookers. There is a little nudity and some erections, but no single element could possibly save this from the hangman\\'s noose. The lighting is appalling, the dialog is puerile and mostly shouted, and the direction is clueless. I saw a doco on American exploitation filmmakers during the recent Fangoria convention. Atkins was one of those featured. He spoke like there was something important about his work, but after a viewing of this, I see nothing of any import whatsoever. There is no style, either, and the horrible video effects (like solarization) only enhance the amateurishness. Not even so bad it\\'s fun. Avoid.', 'label': 0}\n",
      "{'text': \"Director Ron Atkins is certifiably insane. This ultra-low budget film chronicles a few days in the life of one Harry Russo (John Giancaspro, who also co-wrote), a nut-job who receives a Rubberneck doll from his bitch girlfriend. He starts to take orders from the doll to take massive amounts of drugs, rape and kill, not always in that order. What starts off as being a balls-to-the-wall exploitation film, well stays like that, but it gets VERY repetitive VERY fast. I'm leaning more toward the certifiably insane. It IS hard to forget once seen though. Kinda like if Tom Green ever did a horror film.<br /><br />My Grade:F <br /><br />Eye Candy: Laurie Farwell gets fully nude; Jasmin Putnam shows tits and bush <br /><br />ANTI-eye candy: seeing John completely naked repeatedly\", 'label': 0}\n",
      "{'text': \"I was interested to see the move thinking that it might be a diamond in the rough, but the only thing I found was bad writing, horrible directing (the shot sequences do not flow) even though the director might say that that is what he is going for, it looks very uninspired and immature) the editing could have been done by anyone with 2 VCRs and the stock was low budget video. I would say that it wasn't even something as simple as mini digital video. <br /><br />There are some simple ways to fix a film with what the director has, like through editing etc. But it is obvious that he just doesn't care. There is as much effort put in to this movie as a ham sandwich. It could be made better, but that would mean extra work.\", 'label': 0}\n"
     ]
    }
   ],
   "source": [
    "print(imdb_dataset[\"train\"][1859])\n",
    "print(imdb_dataset[\"train\"][1860])\n",
    "print(imdb_dataset[\"train\"][1861])\n",
    "print(imdb_dataset[\"train\"][1862])"
   ]
  },
  {
   "cell_type": "code",
   "execution_count": null,
   "id": "8c5d5ef7-ef0c-4b52-9f6a-4683235f22cb",
   "metadata": {},
   "outputs": [],
   "source": []
  }
 ],
 "metadata": {
  "kernelspec": {
   "display_name": "Python 3 (ipykernel)",
   "language": "python",
   "name": "python3"
  },
  "language_info": {
   "codemirror_mode": {
    "name": "ipython",
    "version": 3
   },
   "file_extension": ".py",
   "mimetype": "text/x-python",
   "name": "python",
   "nbconvert_exporter": "python",
   "pygments_lexer": "ipython3",
   "version": "3.12.4"
  }
 },
 "nbformat": 4,
 "nbformat_minor": 5
}
